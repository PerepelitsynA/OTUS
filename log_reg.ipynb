{
 "cells": [
  {
   "cell_type": "code",
   "execution_count": 1,
   "metadata": {},
   "outputs": [],
   "source": [
    "import torch\n",
    "import torch.nn as nn\n",
    "import torch.nn.functional as F\n",
    "import torch.optim as optim\n",
    "import random\n",
    "\n",
    "import numpy as np\n",
    "import scipy.stats as stats\n",
    "import matplotlib.pyplot as plt\n",
    "from scipy.stats import multivariate_normal\n",
    "\n",
    "%matplotlib inline\n",
    "\n",
    "# фиксируем все seed\n",
    "random.seed(0)\n",
    "np.random.seed(0)\n",
    "torch.manual_seed(0)\n",
    "torch.cuda.manual_seed(0)\n",
    "torch.backends.cudnn.deterministic = True"
   ]
  },
  {
   "cell_type": "code",
   "execution_count": 2,
   "metadata": {},
   "outputs": [],
   "source": [
    "# параметры распределений\n",
    "mu0, sigma0 = -2., 1.\n",
    "mu1, sigma1 = 3., 2."
   ]
  },
  {
   "cell_type": "code",
   "execution_count": 3,
   "metadata": {},
   "outputs": [],
   "source": [
    "# функция для генерации выборки\n",
    "def sample(d0, d1, mu0, mu1, sigma0, sigma1, n=32):\n",
    "    # генерация одномерного случая\n",
    "    x0 = d0.sample((n,)).numpy().reshape(-1)\n",
    "    x1 = d1.sample((n,)).numpy().reshape(-1)\n",
    "    # вычисляем матрицу корреляций\n",
    "    r = np.corrcoef(x0,x1)\n",
    "    # Т.К. r_xy = r_yx, то необходимый коэффициент корреляции равен \n",
    "    r = r[0][1]\n",
    "    # Зададим многомерное распределение\n",
    "    # матрица средних значений \n",
    "    mu = torch.tensor([mu0,mu1],dtype=torch.float)\n",
    "    # матрица ковариацией\n",
    "    cov_mat = torch.tensor([[sigma0**2, r*sigma0*sigma1],[r*sigma0*sigma1, sigma1**2]],dtype=torch.float)\n",
    "    #многомерное распределение\n",
    "    dd0 = torch.distributions.multivariate_normal.MultivariateNormal(mu, cov_mat)\n",
    "    # сэмплируем из многомерного распределения\n",
    "    x = dd0.sample((n,))\n",
    "    # обозначим за 1 наблюдения которые больше своих средних в распределении\n",
    "    y = []\n",
    "    for x_ in x: \n",
    "        if x_[0]>= mu0 and x_[1]>= mu1:\n",
    "            y.append(1)\n",
    "        else : \n",
    "            y.append(0)\n",
    "    y_tensor = torch.tensor(y,dtype = torch.float).reshape(-1,1)\n",
    "    return x,y_tensor"
   ]
  },
  {
   "cell_type": "code",
   "execution_count": 4,
   "metadata": {},
   "outputs": [],
   "source": [
    "# параметры для генерации нормального распределения\n",
    "d0 = torch.distributions.Normal(torch.tensor([mu0]), torch.tensor([sigma0]))\n",
    "d1 = torch.distributions.Normal(torch.tensor([mu1]), torch.tensor([sigma1]))"
   ]
  },
  {
   "cell_type": "code",
   "execution_count": 5,
   "metadata": {},
   "outputs": [],
   "source": [
    "x,y = sample(d0, d1, mu0, mu1, sigma0, sigma1)"
   ]
  },
  {
   "cell_type": "code",
   "execution_count": 6,
   "metadata": {},
   "outputs": [
    {
     "name": "stdout",
     "output_type": "stream",
     "text": [
      "[tensor([-0.2474, -0.5796]), tensor(-0.1504)]\n"
     ]
    }
   ],
   "source": [
    "# на вход подается два распределения вместо одного, поэтому nn.Linear необходимо изменить параметр\n",
    "layer = nn.Linear(2, 1)\n",
    "print([p.data[0] for p in layer.parameters()])\n",
    "layer_opt = optim.SGD(lr=1e-3, params=list(layer.parameters()))"
   ]
  },
  {
   "cell_type": "code",
   "execution_count": 7,
   "metadata": {},
   "outputs": [
    {
     "name": "stdout",
     "output_type": "stream",
     "text": [
      "Ошибка после 0 итераций: 0.960796\n",
      "Ошибка после 1 итераций: 0.738502\n",
      "Ошибка после 2 итераций: 0.612603\n",
      "Ошибка после 3 итераций: 0.533877\n",
      "Ошибка после 4 итераций: 0.483612\n",
      "Ошибка после 5 итераций: 0.446588\n",
      "Ошибка после 6 итераций: 0.419595\n",
      "Ошибка после 7 итераций: 0.396793\n",
      "Ошибка после 8 итераций: 0.381613\n",
      "Ошибка после 9 итераций: 0.368812\n",
      "Ошибка после 10 итераций: 0.356868\n",
      "Ошибка после 11 итераций: 0.346486\n",
      "Ошибка после 12 итераций: 0.339361\n",
      "Ошибка после 13 итераций: 0.334149\n",
      "Ошибка после 14 итераций: 0.328734\n",
      "Ошибка после 15 итераций: 0.322655\n",
      "Ошибка после 16 итераций: 0.318639\n",
      "Ошибка после 17 итераций: 0.314679\n",
      "Ошибка после 18 итераций: 0.311106\n",
      "Ошибка после 19 итераций: 0.308451\n"
     ]
    }
   ],
   "source": [
    "log_freq = 500\n",
    "for i in range(10000):\n",
    "    if i%log_freq == 0:\n",
    "        with torch.no_grad():\n",
    "            x, y = sample(d0, d1,mu0, mu1, sigma0, sigma1, 100000)\n",
    "            out = torch.sigmoid(layer(x))\n",
    "            loss = F.binary_cross_entropy(out, y)\n",
    "        print('Ошибка после %d итераций: %f' %(i/log_freq, loss))\n",
    "    layer_opt.zero_grad()\n",
    "    x, y = sample(d0, d1, mu0, mu1, sigma0, sigma1,1024)\n",
    "    out = torch.sigmoid(layer(x))\n",
    "    loss = F.binary_cross_entropy(out, y)\n",
    "    loss.backward()\n",
    "    layer_opt.step()"
   ]
  },
  {
   "cell_type": "code",
   "execution_count": null,
   "metadata": {},
   "outputs": [],
   "source": []
  }
 ],
 "metadata": {
  "kernelspec": {
   "display_name": "Python 3",
   "language": "python",
   "name": "python3"
  },
  "language_info": {
   "codemirror_mode": {
    "name": "ipython",
    "version": 3
   },
   "file_extension": ".py",
   "mimetype": "text/x-python",
   "name": "python",
   "nbconvert_exporter": "python",
   "pygments_lexer": "ipython3",
   "version": "3.7.6"
  }
 },
 "nbformat": 4,
 "nbformat_minor": 4
}
